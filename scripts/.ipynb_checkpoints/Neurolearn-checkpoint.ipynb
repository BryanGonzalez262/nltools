{
 "metadata": {
  "name": "",
  "signature": "sha256:f1feb02f7475957745d0e665c8388e62251b5979a1c7322b49809700ca4ba48d"
 },
 "nbformat": 3,
 "nbformat_minor": 0,
 "worksheets": [
  {
   "cells": [
    {
     "cell_type": "markdown",
     "metadata": {},
     "source": [
      "<h1>Neurolearn</h1>\n",
      "<h3>This notebook downloads a private collection from neurovault and runs an SVM.</h3>\n",
      "<br>\n",
      "<h3>To Do:</h3>\n",
      "<p>\n",
      "    <ol>\n",
      "        <li>Need to figure out how to tag single subject data with meta-data in neurovault</li>\n",
      "        <li>Need to validate Python results on Matlab</li>\n",
      "        <li>Need to recreate ROC and accuracy from Matlab in Python</li>\n",
      "    </ol>\n",
      "</p>\n",
      "\n",
      "\n"
     ]
    },
    {
     "cell_type": "heading",
     "level": 2,
     "metadata": {},
     "source": [
      "Function Definitions"
     ]
    },
    {
     "cell_type": "code",
     "collapsed": false,
     "input": [
      "\"\"\" Code to grab a private collection from NeuroVault, and compute an SVM discriminating between negative and neutral images\n",
      "\"\"\"\n",
      "# Authors: Luke Chang, Chris Filo Gorgolewski, Gael Varoquaux\n",
      "# License: BSD\n",
      "\n",
      "import os\n",
      "import json\n",
      "import urllib, os, errno\n",
      "from urllib2 import Request, urlopen, HTTPError\n",
      "import pandas as pd\n",
      "from pandas.io.json import json_normalize\n",
      "import numpy as np\n",
      "from nipype.utils.filemanip import split_filename\n",
      "import nibabel as nb\n",
      "from joblib import Memory\n",
      "from nilearn.input_data import NiftiMasker\n",
      "from nilearn.plotting import *\n",
      "from nilearn.image import resample_img, mean_img\n",
      "from nilearn.masking import compute_background_mask, _extrapolate_out_mask\n",
      "from sklearn.svm import SVC\n",
      "from sklearn.cross_validation import KFold, StratifiedKFold, LeaveOneLabelOut \n",
      "from sklearn.metrics import roc_curve, auc\n",
      "from scipy import interp\n",
      "import matplotlib.pyplot as plt\n",
      "%matplotlib inline\n",
      "\n",
      "# Github Project Root\n",
      "basedir = os.path.abspath('..')\n",
      "\n",
      "# Use a joblib memory, to avoid depending on an Internet connection\n",
      "mem = Memory(cachedir='/tmp/neurovault_analysis/cache')\n",
      "\n",
      "def url_get(url):\n",
      "    request = Request(url)\n",
      "    response = urlopen(request)\n",
      "    return response.read()\n",
      "\n",
      "def mkdir_p(path):\n",
      "    try:\n",
      "        os.makedirs(path)\n",
      "    except OSError as exc: # Python >2.5\n",
      "        if exc.errno == errno.EEXIST and os.path.isdir(path):\n",
      "            pass\n",
      "        else: raise\n",
      "      \n",
      "def get_collections_df(key = None):\n",
      "    \"\"\"Downloads metadata about collections/papers stored in NeuroVault and\n",
      "    return it as a pandas DataFrame\"\"\"\n",
      "\n",
      "    if key is None:\n",
      "        request = Request('http://neurovault.org/api/collections/?format=json')\n",
      "    else:\n",
      "        request=Request('http://neurovault.org/api/collections/' + key + '?format=json')\n",
      "    response = urlopen(request)\n",
      "    elevations = response.read()\n",
      "    data = json.loads(elevations)\n",
      "    collections_df = json_normalize(data)\n",
      "    collections_df.rename(columns={'id':'collection_id'}, inplace=True)\n",
      "    collections_df.set_index(\"collection_id\")\n",
      "\n",
      "    return collections_df\n",
      "\n",
      "def get_images_df():\n",
      "    \"\"\"Downloads metadata about images/statistical maps stored in NeuroVault and \n",
      "    return it as a pandas DataFrame\"\"\"\n",
      "\n",
      "    request = Request('http://neurovault.org/api/images/?format=json')\n",
      "    response = urlopen(request)\n",
      "    elevations = response.read()\n",
      "    data = json.loads(elevations)\n",
      "    images_df = json_normalize(data)\n",
      "    images_df['collection'] = images_df['collection'].apply(lambda x: int(x.split(\"/\")[-2]))\n",
      "    images_df['image_id'] = images_df['url'].apply(lambda x: int(x.split(\"/\")[-2]))\n",
      "    images_df.rename(columns={'collection':'collection_id'}, inplace=True)\n",
      "    return images_df\n",
      "\n",
      "def get_images_with_private_collections_df(key=None):\n",
      "    \"\"\"Downloads metadata about images/statistical maps stored in NeuroVault and\n",
      "    and enriches it with metadata of the corresponding collections. The result \n",
      "    is returned as a pandas DataFrame\"\"\"\n",
      "    \n",
      "    collections_df = get_collections_df(key=key)\n",
      "    images_df = get_images_df()\n",
      "\n",
      "    combined_df = pd.merge(images_df, collections_df, how='inner', on='collection_id',\n",
      "                      suffixes=('_image', '_collection'))\n",
      "    return combined_df\n",
      "\n",
      "def get_images_with_collections_df():\n",
      "    \"\"\"Downloads metadata about images/statistical maps stored in NeuroVault and\n",
      "    and enriches it with metadata of the corresponding collections. The result \n",
      "    is returned as a pandas DataFrame\"\"\"\n",
      "    \n",
      "    collections_df = get_collections_df()\n",
      "    images_df = get_images_df()\n",
      "\n",
      "    combined_df = pd.merge(images_df, collections_df, how='left', on='collection_id',\n",
      "                      suffixes=('_image', '_collection'))\n",
      "    return combined_df\n",
      "\n",
      "def download_and_resample(images_df, dest_dir, target):\n",
      "    \"\"\"Downloads all stat maps and resamples them to a common space.\n",
      "    \"\"\"\n",
      "\n",
      "    target_nii = nb.load(target)\n",
      "    orig_path = os.path.join(dest_dir, \"original\")\n",
      "    mkdir_p(orig_path)\n",
      "    resampled_path = os.path.join(dest_dir, \"resampled\")\n",
      "    mkdir_p(resampled_path)\n",
      "    out_df = combined_df.copy()\n",
      "\n",
      "    for row in combined_df.iterrows():\n",
      "        # Downloading the file to the \"original\" subfolder\n",
      "        _, _, ext = split_filename(row[1]['file'])\n",
      "        orig_file = os.path.join(orig_path, \"%04d%s\" % (row[1]['image_id'], ext))\n",
      "        if not os.path.exists(orig_file):\n",
      "            print \"Downloading %s\" % orig_file\n",
      "            urllib.urlretrieve(row[1]['file'], orig_file)\n",
      "\n",
      "        # Compute the background and extrapolate outside of the mask\n",
      "        print \"Extrapolating %s\" % orig_file\n",
      "        niimg = nb.load(orig_file)\n",
      "        data = niimg.get_data().squeeze()\n",
      "        niimg = nb.Nifti1Image(data, niimg.affine,\n",
      "                               header=niimg.get_header())\n",
      "        bg_mask = compute_background_mask(niimg).get_data()\n",
      "        # Test if the image has been masked:\n",
      "        out_of_mask = data[np.logical_not(bg_mask)]\n",
      "        if np.all(np.isnan(out_of_mask)) or len(np.unique(out_of_mask)) == 1:\n",
      "            # Need to extrapolate\n",
      "            data = _extrapolate_out_mask(data.astype(np.float), bg_mask,\n",
      "                                         iterations=3)[0]\n",
      "        niimg = nb.Nifti1Image(data, niimg.affine,\n",
      "                               header=niimg.get_header())\n",
      "        del out_of_mask, bg_mask\n",
      "        # Resampling the file to target and saving the output in the \"resampled\"\n",
      "        # folder\n",
      "        resampled_file = os.path.join(resampled_path,\n",
      "                                      \"%06d%s\" % (row[1]['image_id'], ext))\n",
      "\n",
      "        print \"Resampling %s\" % orig_file\n",
      "        resampled_nii = resample_img(niimg, target_nii.get_affine(),\n",
      "            target_nii.shape)\n",
      "        resampled_nii = nb.Nifti1Image(resampled_nii.get_data().squeeze(),\n",
      "                                       resampled_nii.get_affine(),\n",
      "                                       header=niimg.get_header())\n",
      "        if len(resampled_nii.shape) == 3:\n",
      "            resampled_nii.to_filename(resampled_file)\n",
      "        else:\n",
      "            # We have a 4D file\n",
      "            assert len(resampled_nii.shape) == 4\n",
      "            resampled_data = resampled_nii.get_data()\n",
      "            affine = resampled_nii.affine\n",
      "            for index in range(resampled_nii.shape[-1]):\n",
      "                # First save the files separately\n",
      "                this_nii = nb.Nifti1Image(resampled_data[..., index],\n",
      "                                            affine)\n",
      "                this_id = int(\"%i%i\" % (-row[1]['image_id'], index))\n",
      "                this_file = os.path.join(resampled_path,\n",
      "                    \"%06d%s\" % (this_id, ext))\n",
      "                this_nii.to_filename(this_file)\n",
      "\n",
      "                # Second, fix the dataframe\n",
      "                out_df = out_df[out_df.image_id != row[1]['image_id']]\n",
      "                this_row = row[1].copy()\n",
      "                this_row.image_id = this_id\n",
      "                out_df = out_df.append(this_row)\n",
      "\n",
      "    return out_df"
     ],
     "language": "python",
     "metadata": {},
     "outputs": [],
     "prompt_number": 243
    },
    {
     "cell_type": "heading",
     "level": 2,
     "metadata": {},
     "source": [
      "Get Test Data"
     ]
    },
    {
     "cell_type": "code",
     "collapsed": false,
     "input": [
      "# Test Data collection Key: /collections/NNGSIZTQ/\n",
      "\n",
      "# Get Meta-Data associated with private key\n",
      "k = 'NNGSIZTQ' # Private Key\n",
      "coll_dat = get_collections_df(key = k)\n",
      "combined_df = get_images_with_private_collections_df(k)\n",
      "\n",
      "# Download and resample\n",
      "dest_dir = \"/Users/lukechang/Dropbox/NEPA/Test_Analysis\"\n",
      "target = os.path.join(basedir,\"resources/MNI152_T1_2mm.nii.gz\")\n",
      "combined_df = mem.cache(download_and_resample)(combined_df,dest_dir, target)\n",
      "combined_df.to_csv('%s/metadata.csv' % dest_dir, encoding='utf8')\n"
     ],
     "language": "python",
     "metadata": {},
     "outputs": [
      {
       "output_type": "stream",
       "stream": "stdout",
       "text": [
        "________________________________________________________________________________\n",
        "[Memory] Calling __main__--Users-lukechang-Github-neurolearn-scripts-__ipython-input__.download_and_resample...\n",
        "download_and_resample(              add_date_image  collection_id contrast_definition  \\\n",
        "0   2015-01-04T21:37:16.715Z            302                None   \n",
        "1   2015-01-04T21:37:16.746Z            302                None   \n",
        "2   2015-01-04T21:37:16.771Z            302                None   \n",
        "3   2015-01-04T21:37:16.797Z            302                None   \n",
        "4   2015-01-04T21:37:16.823Z            302                None   \n",
        "5   2015-01-04T21:37:16.849Z            302                None   \n",
        "6   2015-01-04T21:37:16.874Z            302                None   \n",
        "7   2015-01-04T21:37:16.899Z            302                None   \n",
        "8   2015-01-04T21:37:16.923Z            302                None   \n",
        "9   2015-01-04T21:37:16.948Z  ..., \n",
        "'/Users/lukechang/Dropbox/NEPA/Test_Analysis', '/usr/local/fsl/data/standard/MNI152_T1_2mm.nii.gz')\n",
        "Downloading /Users/lukechang/Dropbox/NEPA/Test_Analysis/original/1649.nii.gz\n",
        "Extrapolating /Users/lukechang/Dropbox/NEPA/Test_Analysis/original/1649.nii.gz"
       ]
      },
      {
       "output_type": "stream",
       "stream": "stdout",
       "text": [
        "\n",
        "Resampling /Users/lukechang/Dropbox/NEPA/Test_Analysis/original/1649.nii.gz"
       ]
      },
      {
       "output_type": "stream",
       "stream": "stdout",
       "text": [
        "\n",
        "Downloading /Users/lukechang/Dropbox/NEPA/Test_Analysis/original/1650.nii.gz"
       ]
      },
      {
       "output_type": "stream",
       "stream": "stdout",
       "text": [
        "\n",
        "Extrapolating /Users/lukechang/Dropbox/NEPA/Test_Analysis/original/1650.nii.gz"
       ]
      },
      {
       "output_type": "stream",
       "stream": "stdout",
       "text": [
        "\n",
        "Resampling /Users/lukechang/Dropbox/NEPA/Test_Analysis/original/1650.nii.gz"
       ]
      },
      {
       "output_type": "stream",
       "stream": "stdout",
       "text": [
        "\n",
        "Downloading /Users/lukechang/Dropbox/NEPA/Test_Analysis/original/1651.nii.gz"
       ]
      },
      {
       "output_type": "stream",
       "stream": "stdout",
       "text": [
        "\n",
        "Extrapolating /Users/lukechang/Dropbox/NEPA/Test_Analysis/original/1651.nii.gz"
       ]
      },
      {
       "output_type": "stream",
       "stream": "stdout",
       "text": [
        "\n",
        "Resampling /Users/lukechang/Dropbox/NEPA/Test_Analysis/original/1651.nii.gz"
       ]
      },
      {
       "output_type": "stream",
       "stream": "stdout",
       "text": [
        "\n",
        "Downloading /Users/lukechang/Dropbox/NEPA/Test_Analysis/original/1652.nii.gz"
       ]
      },
      {
       "output_type": "stream",
       "stream": "stdout",
       "text": [
        "\n",
        "Extrapolating /Users/lukechang/Dropbox/NEPA/Test_Analysis/original/1652.nii.gz"
       ]
      },
      {
       "output_type": "stream",
       "stream": "stdout",
       "text": [
        "\n",
        "Resampling /Users/lukechang/Dropbox/NEPA/Test_Analysis/original/1652.nii.gz"
       ]
      },
      {
       "output_type": "stream",
       "stream": "stdout",
       "text": [
        "\n",
        "Downloading /Users/lukechang/Dropbox/NEPA/Test_Analysis/original/1653.nii.gz"
       ]
      },
      {
       "output_type": "stream",
       "stream": "stdout",
       "text": [
        "\n",
        "Extrapolating /Users/lukechang/Dropbox/NEPA/Test_Analysis/original/1653.nii.gz"
       ]
      },
      {
       "output_type": "stream",
       "stream": "stdout",
       "text": [
        "\n",
        "Resampling /Users/lukechang/Dropbox/NEPA/Test_Analysis/original/1653.nii.gz"
       ]
      },
      {
       "output_type": "stream",
       "stream": "stdout",
       "text": [
        "\n",
        "Downloading /Users/lukechang/Dropbox/NEPA/Test_Analysis/original/1654.nii.gz"
       ]
      },
      {
       "output_type": "stream",
       "stream": "stdout",
       "text": [
        "\n",
        "Extrapolating /Users/lukechang/Dropbox/NEPA/Test_Analysis/original/1654.nii.gz"
       ]
      },
      {
       "output_type": "stream",
       "stream": "stdout",
       "text": [
        "\n",
        "Resampling /Users/lukechang/Dropbox/NEPA/Test_Analysis/original/1654.nii.gz"
       ]
      },
      {
       "output_type": "stream",
       "stream": "stdout",
       "text": [
        "\n",
        "Downloading /Users/lukechang/Dropbox/NEPA/Test_Analysis/original/1655.nii.gz"
       ]
      },
      {
       "output_type": "stream",
       "stream": "stdout",
       "text": [
        "\n",
        "Extrapolating /Users/lukechang/Dropbox/NEPA/Test_Analysis/original/1655.nii.gz"
       ]
      },
      {
       "output_type": "stream",
       "stream": "stdout",
       "text": [
        "\n",
        "Resampling /Users/lukechang/Dropbox/NEPA/Test_Analysis/original/1655.nii.gz"
       ]
      },
      {
       "output_type": "stream",
       "stream": "stdout",
       "text": [
        "\n",
        "Downloading /Users/lukechang/Dropbox/NEPA/Test_Analysis/original/1656.nii.gz"
       ]
      },
      {
       "output_type": "stream",
       "stream": "stdout",
       "text": [
        "\n",
        "Extrapolating /Users/lukechang/Dropbox/NEPA/Test_Analysis/original/1656.nii.gz"
       ]
      },
      {
       "output_type": "stream",
       "stream": "stdout",
       "text": [
        "\n",
        "Resampling /Users/lukechang/Dropbox/NEPA/Test_Analysis/original/1656.nii.gz"
       ]
      },
      {
       "output_type": "stream",
       "stream": "stdout",
       "text": [
        "\n",
        "Downloading /Users/lukechang/Dropbox/NEPA/Test_Analysis/original/1657.nii.gz"
       ]
      },
      {
       "output_type": "stream",
       "stream": "stdout",
       "text": [
        "\n",
        "Extrapolating /Users/lukechang/Dropbox/NEPA/Test_Analysis/original/1657.nii.gz"
       ]
      },
      {
       "output_type": "stream",
       "stream": "stdout",
       "text": [
        "\n",
        "Resampling /Users/lukechang/Dropbox/NEPA/Test_Analysis/original/1657.nii.gz"
       ]
      },
      {
       "output_type": "stream",
       "stream": "stdout",
       "text": [
        "\n",
        "Downloading /Users/lukechang/Dropbox/NEPA/Test_Analysis/original/1658.nii.gz"
       ]
      },
      {
       "output_type": "stream",
       "stream": "stdout",
       "text": [
        "\n",
        "Extrapolating /Users/lukechang/Dropbox/NEPA/Test_Analysis/original/1658.nii.gz"
       ]
      },
      {
       "output_type": "stream",
       "stream": "stdout",
       "text": [
        "\n",
        "Resampling /Users/lukechang/Dropbox/NEPA/Test_Analysis/original/1658.nii.gz"
       ]
      },
      {
       "output_type": "stream",
       "stream": "stdout",
       "text": [
        "\n",
        "Downloading /Users/lukechang/Dropbox/NEPA/Test_Analysis/original/1659.nii.gz"
       ]
      },
      {
       "output_type": "stream",
       "stream": "stdout",
       "text": [
        "\n",
        "Extrapolating /Users/lukechang/Dropbox/NEPA/Test_Analysis/original/1659.nii.gz"
       ]
      },
      {
       "output_type": "stream",
       "stream": "stdout",
       "text": [
        "\n",
        "Resampling /Users/lukechang/Dropbox/NEPA/Test_Analysis/original/1659.nii.gz"
       ]
      },
      {
       "output_type": "stream",
       "stream": "stdout",
       "text": [
        "\n",
        "Downloading /Users/lukechang/Dropbox/NEPA/Test_Analysis/original/1660.nii.gz"
       ]
      },
      {
       "output_type": "stream",
       "stream": "stdout",
       "text": [
        "\n",
        "Extrapolating /Users/lukechang/Dropbox/NEPA/Test_Analysis/original/1660.nii.gz"
       ]
      },
      {
       "output_type": "stream",
       "stream": "stdout",
       "text": [
        "\n",
        "Resampling /Users/lukechang/Dropbox/NEPA/Test_Analysis/original/1660.nii.gz"
       ]
      },
      {
       "output_type": "stream",
       "stream": "stdout",
       "text": [
        "\n",
        "Downloading /Users/lukechang/Dropbox/NEPA/Test_Analysis/original/1661.nii.gz"
       ]
      },
      {
       "output_type": "stream",
       "stream": "stdout",
       "text": [
        "\n",
        "Extrapolating /Users/lukechang/Dropbox/NEPA/Test_Analysis/original/1661.nii.gz"
       ]
      },
      {
       "output_type": "stream",
       "stream": "stdout",
       "text": [
        "\n",
        "Resampling /Users/lukechang/Dropbox/NEPA/Test_Analysis/original/1661.nii.gz"
       ]
      },
      {
       "output_type": "stream",
       "stream": "stdout",
       "text": [
        "\n",
        "Downloading /Users/lukechang/Dropbox/NEPA/Test_Analysis/original/1662.nii.gz"
       ]
      },
      {
       "output_type": "stream",
       "stream": "stdout",
       "text": [
        "\n",
        "Extrapolating /Users/lukechang/Dropbox/NEPA/Test_Analysis/original/1662.nii.gz"
       ]
      },
      {
       "output_type": "stream",
       "stream": "stdout",
       "text": [
        "\n",
        "Resampling /Users/lukechang/Dropbox/NEPA/Test_Analysis/original/1662.nii.gz"
       ]
      },
      {
       "output_type": "stream",
       "stream": "stdout",
       "text": [
        "\n",
        "Downloading /Users/lukechang/Dropbox/NEPA/Test_Analysis/original/1663.nii.gz"
       ]
      },
      {
       "output_type": "stream",
       "stream": "stdout",
       "text": [
        "\n",
        "Extrapolating /Users/lukechang/Dropbox/NEPA/Test_Analysis/original/1663.nii.gz"
       ]
      },
      {
       "output_type": "stream",
       "stream": "stdout",
       "text": [
        "\n",
        "Resampling /Users/lukechang/Dropbox/NEPA/Test_Analysis/original/1663.nii.gz"
       ]
      },
      {
       "output_type": "stream",
       "stream": "stdout",
       "text": [
        "\n",
        "Downloading /Users/lukechang/Dropbox/NEPA/Test_Analysis/original/1664.nii.gz"
       ]
      },
      {
       "output_type": "stream",
       "stream": "stdout",
       "text": [
        "\n",
        "Extrapolating /Users/lukechang/Dropbox/NEPA/Test_Analysis/original/1664.nii.gz"
       ]
      },
      {
       "output_type": "stream",
       "stream": "stdout",
       "text": [
        "\n",
        "Resampling /Users/lukechang/Dropbox/NEPA/Test_Analysis/original/1664.nii.gz"
       ]
      },
      {
       "output_type": "stream",
       "stream": "stdout",
       "text": [
        "\n",
        "Downloading /Users/lukechang/Dropbox/NEPA/Test_Analysis/original/1665.nii.gz"
       ]
      },
      {
       "output_type": "stream",
       "stream": "stdout",
       "text": [
        "\n",
        "Extrapolating /Users/lukechang/Dropbox/NEPA/Test_Analysis/original/1665.nii.gz"
       ]
      },
      {
       "output_type": "stream",
       "stream": "stdout",
       "text": [
        "\n",
        "Resampling /Users/lukechang/Dropbox/NEPA/Test_Analysis/original/1665.nii.gz"
       ]
      },
      {
       "output_type": "stream",
       "stream": "stdout",
       "text": [
        "\n",
        "Downloading /Users/lukechang/Dropbox/NEPA/Test_Analysis/original/1666.nii.gz"
       ]
      },
      {
       "output_type": "stream",
       "stream": "stdout",
       "text": [
        "\n",
        "Extrapolating /Users/lukechang/Dropbox/NEPA/Test_Analysis/original/1666.nii.gz"
       ]
      },
      {
       "output_type": "stream",
       "stream": "stdout",
       "text": [
        "\n",
        "Resampling /Users/lukechang/Dropbox/NEPA/Test_Analysis/original/1666.nii.gz"
       ]
      },
      {
       "output_type": "stream",
       "stream": "stdout",
       "text": [
        "\n",
        "Downloading /Users/lukechang/Dropbox/NEPA/Test_Analysis/original/1667.nii.gz"
       ]
      },
      {
       "output_type": "stream",
       "stream": "stdout",
       "text": [
        "\n",
        "Extrapolating /Users/lukechang/Dropbox/NEPA/Test_Analysis/original/1667.nii.gz"
       ]
      },
      {
       "output_type": "stream",
       "stream": "stdout",
       "text": [
        "\n",
        "Resampling /Users/lukechang/Dropbox/NEPA/Test_Analysis/original/1667.nii.gz"
       ]
      },
      {
       "output_type": "stream",
       "stream": "stdout",
       "text": [
        "\n",
        "Downloading /Users/lukechang/Dropbox/NEPA/Test_Analysis/original/1668.nii.gz"
       ]
      },
      {
       "output_type": "stream",
       "stream": "stdout",
       "text": [
        "\n",
        "Extrapolating /Users/lukechang/Dropbox/NEPA/Test_Analysis/original/1668.nii.gz"
       ]
      },
      {
       "output_type": "stream",
       "stream": "stdout",
       "text": [
        "\n",
        "Resampling /Users/lukechang/Dropbox/NEPA/Test_Analysis/original/1668.nii.gz"
       ]
      },
      {
       "output_type": "stream",
       "stream": "stdout",
       "text": [
        "\n",
        "Downloading /Users/lukechang/Dropbox/NEPA/Test_Analysis/original/1669.nii.gz"
       ]
      },
      {
       "output_type": "stream",
       "stream": "stdout",
       "text": [
        "\n",
        "Extrapolating /Users/lukechang/Dropbox/NEPA/Test_Analysis/original/1669.nii.gz"
       ]
      },
      {
       "output_type": "stream",
       "stream": "stdout",
       "text": [
        "\n",
        "Resampling /Users/lukechang/Dropbox/NEPA/Test_Analysis/original/1669.nii.gz"
       ]
      },
      {
       "output_type": "stream",
       "stream": "stdout",
       "text": [
        "\n",
        "Downloading /Users/lukechang/Dropbox/NEPA/Test_Analysis/original/1670.nii.gz"
       ]
      },
      {
       "output_type": "stream",
       "stream": "stdout",
       "text": [
        "\n",
        "Extrapolating /Users/lukechang/Dropbox/NEPA/Test_Analysis/original/1670.nii.gz"
       ]
      },
      {
       "output_type": "stream",
       "stream": "stdout",
       "text": [
        "\n",
        "Resampling /Users/lukechang/Dropbox/NEPA/Test_Analysis/original/1670.nii.gz"
       ]
      },
      {
       "output_type": "stream",
       "stream": "stdout",
       "text": [
        "\n",
        "Downloading /Users/lukechang/Dropbox/NEPA/Test_Analysis/original/1671.nii.gz"
       ]
      },
      {
       "output_type": "stream",
       "stream": "stdout",
       "text": [
        "\n",
        "Extrapolating /Users/lukechang/Dropbox/NEPA/Test_Analysis/original/1671.nii.gz"
       ]
      },
      {
       "output_type": "stream",
       "stream": "stdout",
       "text": [
        "\n",
        "Resampling /Users/lukechang/Dropbox/NEPA/Test_Analysis/original/1671.nii.gz"
       ]
      },
      {
       "output_type": "stream",
       "stream": "stdout",
       "text": [
        "\n",
        "Downloading /Users/lukechang/Dropbox/NEPA/Test_Analysis/original/1672.nii.gz"
       ]
      },
      {
       "output_type": "stream",
       "stream": "stdout",
       "text": [
        "\n",
        "Extrapolating /Users/lukechang/Dropbox/NEPA/Test_Analysis/original/1672.nii.gz"
       ]
      },
      {
       "output_type": "stream",
       "stream": "stdout",
       "text": [
        "\n",
        "Resampling /Users/lukechang/Dropbox/NEPA/Test_Analysis/original/1672.nii.gz"
       ]
      },
      {
       "output_type": "stream",
       "stream": "stdout",
       "text": [
        "\n",
        "Downloading /Users/lukechang/Dropbox/NEPA/Test_Analysis/original/1673.nii.gz"
       ]
      },
      {
       "output_type": "stream",
       "stream": "stdout",
       "text": [
        "\n",
        "Extrapolating /Users/lukechang/Dropbox/NEPA/Test_Analysis/original/1673.nii.gz"
       ]
      },
      {
       "output_type": "stream",
       "stream": "stdout",
       "text": [
        "\n",
        "Resampling /Users/lukechang/Dropbox/NEPA/Test_Analysis/original/1673.nii.gz"
       ]
      },
      {
       "output_type": "stream",
       "stream": "stdout",
       "text": [
        "\n",
        "Downloading /Users/lukechang/Dropbox/NEPA/Test_Analysis/original/1674.nii.gz"
       ]
      },
      {
       "output_type": "stream",
       "stream": "stdout",
       "text": [
        "\n",
        "Extrapolating /Users/lukechang/Dropbox/NEPA/Test_Analysis/original/1674.nii.gz"
       ]
      },
      {
       "output_type": "stream",
       "stream": "stdout",
       "text": [
        "\n",
        "Resampling /Users/lukechang/Dropbox/NEPA/Test_Analysis/original/1674.nii.gz"
       ]
      },
      {
       "output_type": "stream",
       "stream": "stdout",
       "text": [
        "\n",
        "Downloading /Users/lukechang/Dropbox/NEPA/Test_Analysis/original/1675.nii.gz"
       ]
      },
      {
       "output_type": "stream",
       "stream": "stdout",
       "text": [
        "\n",
        "Extrapolating /Users/lukechang/Dropbox/NEPA/Test_Analysis/original/1675.nii.gz"
       ]
      },
      {
       "output_type": "stream",
       "stream": "stdout",
       "text": [
        "\n",
        "Resampling /Users/lukechang/Dropbox/NEPA/Test_Analysis/original/1675.nii.gz"
       ]
      },
      {
       "output_type": "stream",
       "stream": "stdout",
       "text": [
        "\n",
        "Downloading /Users/lukechang/Dropbox/NEPA/Test_Analysis/original/1676.nii.gz"
       ]
      },
      {
       "output_type": "stream",
       "stream": "stdout",
       "text": [
        "\n",
        "Extrapolating /Users/lukechang/Dropbox/NEPA/Test_Analysis/original/1676.nii.gz"
       ]
      },
      {
       "output_type": "stream",
       "stream": "stdout",
       "text": [
        "\n",
        "Resampling /Users/lukechang/Dropbox/NEPA/Test_Analysis/original/1676.nii.gz"
       ]
      },
      {
       "output_type": "stream",
       "stream": "stdout",
       "text": [
        "\n",
        "Downloading /Users/lukechang/Dropbox/NEPA/Test_Analysis/original/1677.nii.gz"
       ]
      },
      {
       "output_type": "stream",
       "stream": "stdout",
       "text": [
        "\n",
        "Extrapolating /Users/lukechang/Dropbox/NEPA/Test_Analysis/original/1677.nii.gz"
       ]
      },
      {
       "output_type": "stream",
       "stream": "stdout",
       "text": [
        "\n",
        "Resampling /Users/lukechang/Dropbox/NEPA/Test_Analysis/original/1677.nii.gz"
       ]
      },
      {
       "output_type": "stream",
       "stream": "stdout",
       "text": [
        "\n",
        "Downloading /Users/lukechang/Dropbox/NEPA/Test_Analysis/original/1678.nii.gz"
       ]
      },
      {
       "output_type": "stream",
       "stream": "stdout",
       "text": [
        "\n",
        "Extrapolating /Users/lukechang/Dropbox/NEPA/Test_Analysis/original/1678.nii.gz"
       ]
      },
      {
       "output_type": "stream",
       "stream": "stdout",
       "text": [
        "\n",
        "Resampling /Users/lukechang/Dropbox/NEPA/Test_Analysis/original/1678.nii.gz"
       ]
      },
      {
       "output_type": "stream",
       "stream": "stdout",
       "text": [
        "\n",
        "Downloading /Users/lukechang/Dropbox/NEPA/Test_Analysis/original/1679.nii.gz"
       ]
      },
      {
       "output_type": "stream",
       "stream": "stdout",
       "text": [
        "\n",
        "Extrapolating /Users/lukechang/Dropbox/NEPA/Test_Analysis/original/1679.nii.gz"
       ]
      },
      {
       "output_type": "stream",
       "stream": "stdout",
       "text": [
        "\n",
        "Resampling /Users/lukechang/Dropbox/NEPA/Test_Analysis/original/1679.nii.gz"
       ]
      },
      {
       "output_type": "stream",
       "stream": "stdout",
       "text": [
        "\n",
        "Downloading /Users/lukechang/Dropbox/NEPA/Test_Analysis/original/1680.nii.gz"
       ]
      },
      {
       "output_type": "stream",
       "stream": "stdout",
       "text": [
        "\n",
        "Extrapolating /Users/lukechang/Dropbox/NEPA/Test_Analysis/original/1680.nii.gz"
       ]
      },
      {
       "output_type": "stream",
       "stream": "stdout",
       "text": [
        "\n",
        "Resampling /Users/lukechang/Dropbox/NEPA/Test_Analysis/original/1680.nii.gz"
       ]
      },
      {
       "output_type": "stream",
       "stream": "stdout",
       "text": [
        "\n",
        "Downloading /Users/lukechang/Dropbox/NEPA/Test_Analysis/original/1681.nii.gz"
       ]
      },
      {
       "output_type": "stream",
       "stream": "stdout",
       "text": [
        "\n",
        "Extrapolating /Users/lukechang/Dropbox/NEPA/Test_Analysis/original/1681.nii.gz"
       ]
      },
      {
       "output_type": "stream",
       "stream": "stdout",
       "text": [
        "\n",
        "Resampling /Users/lukechang/Dropbox/NEPA/Test_Analysis/original/1681.nii.gz"
       ]
      },
      {
       "output_type": "stream",
       "stream": "stdout",
       "text": [
        "\n",
        "Downloading /Users/lukechang/Dropbox/NEPA/Test_Analysis/original/1682.nii.gz"
       ]
      },
      {
       "output_type": "stream",
       "stream": "stdout",
       "text": [
        "\n",
        "Extrapolating /Users/lukechang/Dropbox/NEPA/Test_Analysis/original/1682.nii.gz"
       ]
      },
      {
       "output_type": "stream",
       "stream": "stdout",
       "text": [
        "\n",
        "Resampling /Users/lukechang/Dropbox/NEPA/Test_Analysis/original/1682.nii.gz"
       ]
      },
      {
       "output_type": "stream",
       "stream": "stdout",
       "text": [
        "\n",
        "Downloading /Users/lukechang/Dropbox/NEPA/Test_Analysis/original/1683.nii.gz"
       ]
      },
      {
       "output_type": "stream",
       "stream": "stdout",
       "text": [
        "\n",
        "Extrapolating /Users/lukechang/Dropbox/NEPA/Test_Analysis/original/1683.nii.gz"
       ]
      },
      {
       "output_type": "stream",
       "stream": "stdout",
       "text": [
        "\n",
        "Resampling /Users/lukechang/Dropbox/NEPA/Test_Analysis/original/1683.nii.gz"
       ]
      },
      {
       "output_type": "stream",
       "stream": "stdout",
       "text": [
        "\n",
        "Downloading /Users/lukechang/Dropbox/NEPA/Test_Analysis/original/1684.nii.gz"
       ]
      },
      {
       "output_type": "stream",
       "stream": "stdout",
       "text": [
        "\n",
        "Extrapolating /Users/lukechang/Dropbox/NEPA/Test_Analysis/original/1684.nii.gz"
       ]
      },
      {
       "output_type": "stream",
       "stream": "stdout",
       "text": [
        "\n",
        "Resampling /Users/lukechang/Dropbox/NEPA/Test_Analysis/original/1684.nii.gz"
       ]
      },
      {
       "output_type": "stream",
       "stream": "stdout",
       "text": [
        "\n",
        "Downloading /Users/lukechang/Dropbox/NEPA/Test_Analysis/original/1685.nii.gz"
       ]
      },
      {
       "output_type": "stream",
       "stream": "stdout",
       "text": [
        "\n",
        "Extrapolating /Users/lukechang/Dropbox/NEPA/Test_Analysis/original/1685.nii.gz"
       ]
      },
      {
       "output_type": "stream",
       "stream": "stdout",
       "text": [
        "\n",
        "Resampling /Users/lukechang/Dropbox/NEPA/Test_Analysis/original/1685.nii.gz"
       ]
      },
      {
       "output_type": "stream",
       "stream": "stdout",
       "text": [
        "\n",
        "Downloading /Users/lukechang/Dropbox/NEPA/Test_Analysis/original/1686.nii.gz"
       ]
      },
      {
       "output_type": "stream",
       "stream": "stdout",
       "text": [
        "\n",
        "Extrapolating /Users/lukechang/Dropbox/NEPA/Test_Analysis/original/1686.nii.gz"
       ]
      },
      {
       "output_type": "stream",
       "stream": "stdout",
       "text": [
        "\n",
        "Resampling /Users/lukechang/Dropbox/NEPA/Test_Analysis/original/1686.nii.gz"
       ]
      },
      {
       "output_type": "stream",
       "stream": "stdout",
       "text": [
        "\n",
        "Downloading /Users/lukechang/Dropbox/NEPA/Test_Analysis/original/1687.nii.gz"
       ]
      },
      {
       "output_type": "stream",
       "stream": "stdout",
       "text": [
        "\n",
        "Extrapolating /Users/lukechang/Dropbox/NEPA/Test_Analysis/original/1687.nii.gz"
       ]
      },
      {
       "output_type": "stream",
       "stream": "stdout",
       "text": [
        "\n",
        "Resampling /Users/lukechang/Dropbox/NEPA/Test_Analysis/original/1687.nii.gz"
       ]
      },
      {
       "output_type": "stream",
       "stream": "stdout",
       "text": [
        "\n",
        "Downloading /Users/lukechang/Dropbox/NEPA/Test_Analysis/original/1688.nii.gz"
       ]
      },
      {
       "output_type": "stream",
       "stream": "stdout",
       "text": [
        "\n",
        "Extrapolating /Users/lukechang/Dropbox/NEPA/Test_Analysis/original/1688.nii.gz"
       ]
      },
      {
       "output_type": "stream",
       "stream": "stdout",
       "text": [
        "\n",
        "Resampling /Users/lukechang/Dropbox/NEPA/Test_Analysis/original/1688.nii.gz"
       ]
      },
      {
       "output_type": "stream",
       "stream": "stdout",
       "text": [
        "\n",
        "___________________________________________download_and_resample - 56.1s, 0.9min"
       ]
      },
      {
       "output_type": "stream",
       "stream": "stdout",
       "text": [
        "\n"
       ]
      }
     ],
     "prompt_number": 3
    },
    {
     "cell_type": "heading",
     "level": 2,
     "metadata": {},
     "source": [
      "\n",
      "Run Machine Learning Analysis\n",
      "\n"
     ]
    },
    {
     "cell_type": "code",
     "collapsed": false,
     "input": [
      "# Separate image types and sort\n",
      "neg_list = combined_df.ix[combined_df.name_image.str.contains('Neg'),].sort(columns='name_image')\n",
      "neu_list = combined_df.ix[combined_df.name_image.str.contains('Neu'),].sort(columns='name_image')\n",
      "\n",
      "# Load data using nibabel\n",
      "neg_file_list = [dest_dir + '/resampled/00' + str(x) + '.nii.gz' for x in neg_list.image_id]\n",
      "neu_file_list = [dest_dir + '/resampled/00' + str(x) + '.nii.gz' for x in neu_list.image_id]\n",
      "dat = nb.funcs.concat_images(neg_file_list+neu_file_list)\n",
      "\n",
      "# Mask data\n",
      "mask_img = nb.load(os.path.join(basedir,'resources/MNI152_T1_2mm_brain_mask_dil.nii.gz'))\n",
      "mn_img = mean_img(dat)\n",
      "nifti_masker = NiftiMasker(mask_img=mask_img)\n",
      "dat_masked = nifti_masker.fit_transform(dat)\n",
      "\n",
      "# Classification\n",
      "nSub = 20\n",
      "target = np.array([1]*nSub+[0]*nSub)\n",
      "svc = SVC(kernel='linear')\n",
      "svc.fit(dat_masked, target)\n",
      "\n",
      "# Save Weights: Write out weight map to nifti image\n",
      "coef_ = svc.coef_ \n",
      "coef_img = nifti_masker.inverse_transform(coef_)\n",
      "nb.save(coef_img, dest_dir + '/Neg_vs_Neu_SVM_weights.nii')\n",
      "\n",
      "# Cross-validation\n",
      "cv = StratifiedKFold(target, n_folds=5)\n",
      "cv_scores = []\n",
      "mean_tpr = 0.0\n",
      "all_tpr = []\n",
      "prediction = np.array([0]*nSub*2)\n",
      "for train, test in cv:\n",
      "    svc.fit(dat_masked[train], target[train])\n",
      "    cv_prediction = svc.predict(dat_masked[test])\n",
      "    prediction[test] = cv_prediction\n",
      "    cv_scores.append(np.sum(cv_prediction == target[test]) / float(np.size(target[test])))\n",
      "    \n",
      "    # Compute ROC curve and area the curve\n",
      "    fpr, tpr, thresholds = roc_curve(target[test], cv_prediction)\n",
      "    mean_tpr += interp(mean_fpr, fpr, tpr)\n",
      "print 'cv_accuracy per fold: ', cv_scores\n",
      "print 'overall cv accuracy: ', np.mean(prediction==target)\n",
      "print 'forced choice accuracy: ', np.sum(prediction[0:nSub] - prediction[nSub:]) / np.float(nSub)\n",
      "\n",
      "# Plots\n",
      "# ROC Plot\n",
      "mean_tpr /= len(cv)\n",
      "mean_tpr[0] = 0.0\n",
      "mean_tpr[-1] = 1.0\n",
      "mean_fpr = np.linspace(0, 1, 100)\n",
      "mean_auc = auc(mean_fpr, mean_tpr)\n",
      "fig3 = plt.plot(mean_fpr, mean_tpr, 'r-', label='Mean ROC (area = %0.2f)' % mean_auc, lw=4)\n",
      "plt.xlim([-0.05, 1.05])\n",
      "plt.ylim([-0.05, 1.05])\n",
      "plt.xlabel('False Positive Rate')\n",
      "plt.ylabel('True Positive Rate')\n",
      "plt.title('Receiver operating characteristic example')\n",
      "plt.savefig(dest_dir + '/Neg_vs_Neu_SVM_ROC_plot.png')\n",
      "\n",
      "fig1 = plot_roi(nifti_masker.mask_img_, mn_img, title=\"Mask\", cut_coords=range(-40, 40, 10), display_mode='z')\n",
      "fig1.savefig(dest_dir + '/Neg_vs_Neu_SVM_mask.png')\n",
      "fig2 = plot_stat_map(coef_img, mn_img, title=\"SVM weights\", cut_coords=range(-40, 40, 10), display_mode='z')\n",
      "fig2.savefig(dest_dir + '/Neg_vs_Neu_SVM_weightmap.png')\n",
      "\n",
      "\n"
     ],
     "language": "python",
     "metadata": {},
     "outputs": []
    },
    {
     "cell_type": "code",
     "collapsed": false,
     "input": [
      "\n"
     ],
     "language": "python",
     "metadata": {},
     "outputs": []
    },
    {
     "cell_type": "heading",
     "level": 2,
     "metadata": {},
     "source": [
      "Extra Code"
     ]
    },
    {
     "cell_type": "code",
     "collapsed": false,
     "input": [],
     "language": "python",
     "metadata": {},
     "outputs": []
    }
   ],
   "metadata": {}
  }
 ]
}